{
 "cells": [
  {
   "cell_type": "markdown",
   "id": "c2bb34d3-ec35-4cf9-8d55-8f868582e13a",
   "metadata": {},
   "source": [
    "## 2. Data loading"
   ]
  },
  {
   "cell_type": "code",
   "execution_count": 1,
   "id": "07e84758-b5d9-4de7-8f53-16f1e8a6e2bc",
   "metadata": {
    "tags": []
   },
   "outputs": [],
   "source": [
    "import pandas as pd\n",
    "import numpy as np"
   ]
  },
  {
   "cell_type": "code",
   "execution_count": 3,
   "id": "0b70b19f-8ada-4808-a155-00d6f3acb3ba",
   "metadata": {
    "collapsed": true,
    "jupyter": {
     "outputs_hidden": true
    },
    "tags": []
   },
   "outputs": [
    {
     "name": "stdout",
     "output_type": "stream",
     "text": [
      "     Event     Search Source                                   Newspaper  \\\n",
      "0        1     USGS1-50.docx               The Durango Herald (Colorado)   \n",
      "1        2     USGS1-50.docx  Journal, The (Cortez, Dolores, Mancos, CO)   \n",
      "2        3     USGS1-50.docx                       The Salt Lake Tribune   \n",
      "3        4     USGS1-50.docx                   Casa Grande Dispatch (AZ)   \n",
      "4        5     USGS1-50.docx                  The Aspen Times (Colorado)   \n",
      "..     ...               ...                                         ...   \n",
      "263    264  USGS301-350.docx               The Durango Herald (Colorado)   \n",
      "264    265  USGS301-350.docx  Rio Blanco Herald Times (Meeker, Colorado)   \n",
      "265    266  USGS301-350.docx                   Casa Grande Dispatch (AZ)   \n",
      "266    267  USGS301-350.docx                       The Salt Lake Tribune   \n",
      "267    268  USGS301-350.docx                   Casa Grande Dispatch (AZ)   \n",
      "\n",
      "                                         Article Title Duplicate Report Date  \\\n",
      "0    Tribes assert water rights on Colorado River B...     False    7-Apr-22   \n",
      "1    Native American tribes assert water rights on ...     False    7-Apr-22   \n",
      "2    'Very positive change.' New Utah law will be a...     False   17-Mar-22   \n",
      "3    Legislation would let an Arizona tribe lease C...     False   11-Dec-21   \n",
      "4    Historically excluded from Colorado River poli...     False   19-Dec-21   \n",
      "..                                                 ...       ...         ...   \n",
      "263  Water officials consider action for worst case...     False    9-Jun-09   \n",
      "264        Rangely hosts Colorado River District event     False   21-Apr-22   \n",
      "265  California water district lawsuit threatens dr...     False   18-Apr-19   \n",
      "266  Scientists want to flush water past Glen Canyo...     False   13-Dec-07   \n",
      "267         Arizona plan could devastate Pinal farmers       NaN    2-Feb-19   \n",
      "\n",
      "     Report Year Event Date  Event Day  Event Month  ...  \\\n",
      "0         2022.0        NaN        NaN          4.0  ...   \n",
      "1         2022.0        NaN        NaN          4.0  ...   \n",
      "2         2022.0        NaN        NaN          3.0  ...   \n",
      "3         2021.0        NaN        NaN         12.0  ...   \n",
      "4         2021.0        NaN        NaN         11.0  ...   \n",
      "..           ...        ...        ...          ...  ...   \n",
      "263       2019.0          6        NaN          6.0  ...   \n",
      "264       2022.0  4/13/2022       13.0          4.0  ...   \n",
      "265       2019.0          4        NaN          4.0  ...   \n",
      "266       2007.0         12        NaN         12.0  ...   \n",
      "267       2019.0  1/31/2019       31.0          1.0  ...   \n",
      "\n",
      "     Article Text Search - water rights  \\\n",
      "0                                    17   \n",
      "1                                    17   \n",
      "2                                    12   \n",
      "3                                     6   \n",
      "4                                    18   \n",
      "..                                  ...   \n",
      "263                                   3   \n",
      "264                                   3   \n",
      "265                                   2   \n",
      "266                                   0   \n",
      "267                                   2   \n",
      "\n",
      "    Article Text Search - intergovernmental  \\\n",
      "0                                         0   \n",
      "1                                         0   \n",
      "2                                         0   \n",
      "3                                         0   \n",
      "4                                         0   \n",
      "..                                      ...   \n",
      "263                                       0   \n",
      "264                                       0   \n",
      "265                                       0   \n",
      "266                                       0   \n",
      "267                                       0   \n",
      "\n",
      "    Article Text Search - water transfers Article Text Search - navigation  \\\n",
      "0                                       0                                0   \n",
      "1                                       0                                0   \n",
      "2                                       0                                0   \n",
      "3                                       0                                0   \n",
      "4                                       0                                0   \n",
      "..                                    ...                              ...   \n",
      "263                                     0                                0   \n",
      "264                                     0                                0   \n",
      "265                                     0                                0   \n",
      "266                                     0                                0   \n",
      "267                                     0                                0   \n",
      "\n",
      "    Article Text Search - fish Article Text Search - invasive  \\\n",
      "0                            0                              0   \n",
      "1                            0                              0   \n",
      "2                            1                              0   \n",
      "3                            0                              0   \n",
      "4                            0                              0   \n",
      "..                         ...                            ...   \n",
      "263                          0                              0   \n",
      "264                          0                              1   \n",
      "265                          0                              0   \n",
      "266                          0                              2   \n",
      "267                          0                              0   \n",
      "\n",
      "    Article Text Search - diversion Article Text Search - water diversion  \\\n",
      "0                                 0                                     0   \n",
      "1                                 0                                     0   \n",
      "2                                 0                                     0   \n",
      "3                                 0                                     0   \n",
      "4                                 0                                     0   \n",
      "..                              ...                                   ...   \n",
      "263                               0                                     0   \n",
      "264                               1                                     0   \n",
      "265                               0                                     0   \n",
      "266                               0                                     0   \n",
      "267                               0                                     0   \n",
      "\n",
      "     Article Text Search - instream Article Text Search - aquatic  \n",
      "0                                 0                             0  \n",
      "1                                 0                             0  \n",
      "2                                12                             1  \n",
      "3                                 0                             0  \n",
      "4                                 0                             0  \n",
      "..                              ...                           ...  \n",
      "263                               0                             0  \n",
      "264                               0                             0  \n",
      "265                               0                             0  \n",
      "266                               0                             0  \n",
      "267                               0                             0  \n",
      "\n",
      "[268 rows x 48 columns]\n"
     ]
    }
   ],
   "source": [
    "df = pd.read_csv('data/Colorado River Basin Water Conflict Table.csv')\n",
    "print(df)"
   ]
  },
  {
   "cell_type": "code",
   "execution_count": 4,
   "id": "cb737d97-f49a-467e-bdaf-8b844944475e",
   "metadata": {
    "tags": []
   },
   "outputs": [
    {
     "data": {
      "text/plain": [
       "dtype('int64')"
      ]
     },
     "execution_count": 4,
     "metadata": {},
     "output_type": "execute_result"
    }
   ],
   "source": [
    "df['Event'].dtype"
   ]
  },
  {
   "cell_type": "code",
   "execution_count": 5,
   "id": "24f755c8-df05-4792-863c-9b41f2a3e3a2",
   "metadata": {
    "tags": []
   },
   "outputs": [
    {
     "data": {
      "text/plain": [
       "Event                                           268\n",
       "Search Source                                     6\n",
       "Newspaper                                        45\n",
       "Article Title                                   267\n",
       "Duplicate                                         2\n",
       "Report Date                                     235\n",
       "Report Year                                      18\n",
       "Event Date                                       52\n",
       "Event Day                                        12\n",
       "Event Month                                      12\n",
       "Event Year                                       21\n",
       "Conflict Present                                  2\n",
       "Crisis Present                                    2\n",
       "Basin                                            25\n",
       "HUC6                                             22\n",
       "HUC2                                              7\n",
       "Place                                           135\n",
       "County                                            3\n",
       "County FIPS                                       3\n",
       "State                                            23\n",
       "State FIPS                                       19\n",
       "Urban or Rural                                    6\n",
       "Issue Type                                       19\n",
       "Event Summary                                   253\n",
       "Stakeholders                                    199\n",
       "Intensity Value                                  10\n",
       "Comments                                        184\n",
       "Related Observation Themes                       21\n",
       "Article Text Search - water quality              10\n",
       "Article Text Search - invasive species            2\n",
       "Article Text Search - conservation               15\n",
       "Article Text Search - drought                    19\n",
       "Article Text Search - flood                      10\n",
       "Article Text Search - ground water depletion      1\n",
       "Article Text Search - depletion                   2\n",
       "Article Text Search - infrastructure              9\n",
       "Article Text Search - fish passage                1\n",
       "Article Text Search - instream water rights       1\n",
       "Article Text Search - water rights               17\n",
       "Article Text Search - intergovernmental           2\n",
       "Article Text Search - water transfers             2\n",
       "Article Text Search - navigation                  2\n",
       "Article Text Search - fish                        8\n",
       "Article Text Search - invasive                    3\n",
       "Article Text Search - diversion                   6\n",
       "Article Text Search - water diversion             2\n",
       "Article Text Search - instream                    5\n",
       "Article Text Search - aquatic                     5\n",
       "dtype: int64"
      ]
     },
     "execution_count": 5,
     "metadata": {},
     "output_type": "execute_result"
    }
   ],
   "source": [
    "df.nunique()"
   ]
  },
  {
   "cell_type": "code",
   "execution_count": 8,
   "id": "bbc687f6-14e8-4284-aab3-2414522fbb53",
   "metadata": {
    "tags": []
   },
   "outputs": [
    {
     "data": {
      "text/plain": [
       "array(['CO', 'UT', nan, 'AZ', 'OH; UT', 'AZ; CO; NM; UT', 'CA', 'AZ; UT',\n",
       "       'AZ; NV', 'CO; UT; WY; NM', 'AZ; CA', 'UT; AZ', 'CO; WY', 'NV; AZ',\n",
       "       'CO; AZ', 'AZ; CA; CO; NV; NM; UT; WY', 'AZ; CA; NV', 'NV', 'NM',\n",
       "       'UT; CO; WY', 'CA; NV; AZ', 'AZ; NM', 'WY; UT; CO', 'TX'],\n",
       "      dtype=object)"
      ]
     },
     "execution_count": 8,
     "metadata": {},
     "output_type": "execute_result"
    }
   ],
   "source": [
    "df['State'].unique()"
   ]
  },
  {
   "cell_type": "code",
   "execution_count": 23,
   "id": "275c00c1-2755-4181-a707-387c051513e0",
   "metadata": {
    "tags": []
   },
   "outputs": [
    {
     "data": {
      "text/plain": [
       "array(['Y', 'N', nan], dtype=object)"
      ]
     },
     "execution_count": 23,
     "metadata": {},
     "output_type": "execute_result"
    }
   ],
   "source": [
    "df['Conflict Present'].unique()"
   ]
  },
  {
   "cell_type": "markdown",
   "id": "26a1fd69-6876-41e8-b112-9c971d4e6bff",
   "metadata": {},
   "source": [
    "### 5. String acessor for `pandas.Series`"
   ]
  },
  {
   "cell_type": "code",
   "execution_count": 25,
   "id": "5c5c67a0-5016-4071-91e7-e5f90b4ba471",
   "metadata": {
    "tags": []
   },
   "outputs": [],
   "source": [
    "df_conflicts = df[df['Conflict Present'] == \"Y\"]"
   ]
  },
  {
   "cell_type": "code",
   "execution_count": 40,
   "id": "c45f3a7a-ce94-40c2-93e3-94e0e5e0b853",
   "metadata": {
    "tags": []
   },
   "outputs": [],
   "source": [
    "# Use str accessor with additional methods to perform string operations\n",
    "# .split splits strings by ';' and expands output into separate columns\n",
    "df_states = (df['State']\n",
    "             .loc[df['Conflict Present'] == \"Y\"]\n",
    "             .str\n",
    "             .split(';', expand=True)\n",
    "             .stack()\n",
    "             .str\n",
    "             .strip() # Removes white space\n",
    "            )"
   ]
  },
  {
   "cell_type": "code",
   "execution_count": 52,
   "id": "4876a060-d168-4501-9e2b-922f14f79d09",
   "metadata": {
    "tags": []
   },
   "outputs": [
    {
     "data": {
      "text/plain": [
       "132"
      ]
     },
     "execution_count": 52,
     "metadata": {},
     "output_type": "execute_result"
    }
   ],
   "source": [
    "df_states.count()"
   ]
  },
  {
   "cell_type": "markdown",
   "id": "4db30a81-1eae-4929-acc8-41741fccb92d",
   "metadata": {},
   "source": [
    "## 6. Examine state codes\n",
    "\n",
    "One of the challenges "
   ]
  },
  {
   "cell_type": "markdown",
   "id": "37c1996a-738c-47e7-91f8-e98fca12f6bc",
   "metadata": {},
   "source": [
    "### 7. Brainstorm\n",
    "\n",
    "a. To obtain a list with out repetition:\n",
    "- filter the data to events with conflicts only\n",
    "- Split the states for rows with multiple states using `split()`\n",
    "- Trim off the white space\n",
    "- use `nunique()`"
   ]
  },
  {
   "cell_type": "code",
   "execution_count": 49,
   "id": "f0da93c0-5d11-4dcf-84f0-99b0389d57cd",
   "metadata": {
    "tags": []
   },
   "outputs": [
    {
     "data": {
      "text/html": [
       "<div>\n",
       "<style scoped>\n",
       "    .dataframe tbody tr th:only-of-type {\n",
       "        vertical-align: middle;\n",
       "    }\n",
       "\n",
       "    .dataframe tbody tr th {\n",
       "        vertical-align: top;\n",
       "    }\n",
       "\n",
       "    .dataframe thead th {\n",
       "        text-align: right;\n",
       "    }\n",
       "</style>\n",
       "<table border=\"1\" class=\"dataframe\">\n",
       "  <thead>\n",
       "    <tr style=\"text-align: right;\">\n",
       "      <th></th>\n",
       "      <th>Article Title</th>\n",
       "    </tr>\n",
       "    <tr>\n",
       "      <th>State</th>\n",
       "      <th></th>\n",
       "    </tr>\n",
       "  </thead>\n",
       "  <tbody>\n",
       "    <tr>\n",
       "      <th>AZ</th>\n",
       "      <td>66</td>\n",
       "    </tr>\n",
       "    <tr>\n",
       "      <th>AZ; CA</th>\n",
       "      <td>4</td>\n",
       "    </tr>\n",
       "    <tr>\n",
       "      <th>AZ; CA; CO; NV; NM; UT; WY</th>\n",
       "      <td>3</td>\n",
       "    </tr>\n",
       "    <tr>\n",
       "      <th>AZ; CA; NV</th>\n",
       "      <td>1</td>\n",
       "    </tr>\n",
       "    <tr>\n",
       "      <th>AZ; CO; NM; UT</th>\n",
       "      <td>1</td>\n",
       "    </tr>\n",
       "    <tr>\n",
       "      <th>AZ; NM</th>\n",
       "      <td>1</td>\n",
       "    </tr>\n",
       "    <tr>\n",
       "      <th>AZ; NV</th>\n",
       "      <td>2</td>\n",
       "    </tr>\n",
       "    <tr>\n",
       "      <th>AZ; UT</th>\n",
       "      <td>3</td>\n",
       "    </tr>\n",
       "    <tr>\n",
       "      <th>CA</th>\n",
       "      <td>7</td>\n",
       "    </tr>\n",
       "    <tr>\n",
       "      <th>CA; NV; AZ</th>\n",
       "      <td>1</td>\n",
       "    </tr>\n",
       "    <tr>\n",
       "      <th>CO</th>\n",
       "      <td>34</td>\n",
       "    </tr>\n",
       "    <tr>\n",
       "      <th>CO; AZ</th>\n",
       "      <td>2</td>\n",
       "    </tr>\n",
       "    <tr>\n",
       "      <th>CO; UT; WY; NM</th>\n",
       "      <td>2</td>\n",
       "    </tr>\n",
       "    <tr>\n",
       "      <th>CO; WY</th>\n",
       "      <td>1</td>\n",
       "    </tr>\n",
       "    <tr>\n",
       "      <th>NM</th>\n",
       "      <td>6</td>\n",
       "    </tr>\n",
       "    <tr>\n",
       "      <th>NV</th>\n",
       "      <td>10</td>\n",
       "    </tr>\n",
       "    <tr>\n",
       "      <th>NV; AZ</th>\n",
       "      <td>2</td>\n",
       "    </tr>\n",
       "    <tr>\n",
       "      <th>OH; UT</th>\n",
       "      <td>1</td>\n",
       "    </tr>\n",
       "    <tr>\n",
       "      <th>TX</th>\n",
       "      <td>1</td>\n",
       "    </tr>\n",
       "    <tr>\n",
       "      <th>UT</th>\n",
       "      <td>27</td>\n",
       "    </tr>\n",
       "    <tr>\n",
       "      <th>UT; AZ</th>\n",
       "      <td>1</td>\n",
       "    </tr>\n",
       "    <tr>\n",
       "      <th>UT; CO; WY</th>\n",
       "      <td>1</td>\n",
       "    </tr>\n",
       "    <tr>\n",
       "      <th>WY; UT; CO</th>\n",
       "      <td>1</td>\n",
       "    </tr>\n",
       "  </tbody>\n",
       "</table>\n",
       "</div>"
      ],
      "text/plain": [
       "                            Article Title\n",
       "State                                    \n",
       "AZ                                     66\n",
       "AZ; CA                                  4\n",
       "AZ; CA; CO; NV; NM; UT; WY              3\n",
       "AZ; CA; NV                              1\n",
       "AZ; CO; NM; UT                          1\n",
       "AZ; NM                                  1\n",
       "AZ; NV                                  2\n",
       "AZ; UT                                  3\n",
       "CA                                      7\n",
       "CA; NV; AZ                              1\n",
       "CO                                     34\n",
       "CO; AZ                                  2\n",
       "CO; UT; WY; NM                          2\n",
       "CO; WY                                  1\n",
       "NM                                      6\n",
       "NV                                     10\n",
       "NV; AZ                                  2\n",
       "OH; UT                                  1\n",
       "TX                                      1\n",
       "UT                                     27\n",
       "UT; AZ                                  1\n",
       "UT; CO; WY                              1\n",
       "WY; UT; CO                              1"
      ]
     },
     "execution_count": 49,
     "metadata": {},
     "output_type": "execute_result"
    }
   ],
   "source": [
    "state_article = df[['State', 'Article Title']].groupby('State').nunique()\n",
    "state_article"
   ]
  },
  {
   "cell_type": "code",
   "execution_count": 67,
   "id": "165ad9d9-ec2d-4066-b6c7-7468f87999a5",
   "metadata": {
    "tags": []
   },
   "outputs": [
    {
     "data": {
      "text/plain": [
       "0    0    CO\n",
       "1    0    CO\n",
       "5    0    AZ\n",
       "11   0    OH\n",
       "     1    UT\n",
       "          ..\n",
       "257  0    AZ\n",
       "258  0    UT\n",
       "262  0    AZ\n",
       "265  0    AZ\n",
       "     1    CA\n",
       "Length: 132, dtype: object"
      ]
     },
     "execution_count": 67,
     "metadata": {},
     "output_type": "execute_result"
    }
   ],
   "source": [
    "df_states"
   ]
  },
  {
   "cell_type": "code",
   "execution_count": 71,
   "id": "5c8979e7-7e32-483c-bfb5-d93814dcd8f8",
   "metadata": {
    "tags": []
   },
   "outputs": [
    {
     "data": {
      "text/html": [
       "<div>\n",
       "<style scoped>\n",
       "    .dataframe tbody tr th:only-of-type {\n",
       "        vertical-align: middle;\n",
       "    }\n",
       "\n",
       "    .dataframe tbody tr th {\n",
       "        vertical-align: top;\n",
       "    }\n",
       "\n",
       "    .dataframe thead th {\n",
       "        text-align: right;\n",
       "    }\n",
       "</style>\n",
       "<table border=\"1\" class=\"dataframe\">\n",
       "  <thead>\n",
       "    <tr style=\"text-align: right;\">\n",
       "      <th></th>\n",
       "      <th>level_0</th>\n",
       "      <th>level_1</th>\n",
       "      <th>State</th>\n",
       "    </tr>\n",
       "  </thead>\n",
       "  <tbody>\n",
       "    <tr>\n",
       "      <th>0</th>\n",
       "      <td>0</td>\n",
       "      <td>0</td>\n",
       "      <td>CO</td>\n",
       "    </tr>\n",
       "    <tr>\n",
       "      <th>1</th>\n",
       "      <td>1</td>\n",
       "      <td>0</td>\n",
       "      <td>CO</td>\n",
       "    </tr>\n",
       "    <tr>\n",
       "      <th>2</th>\n",
       "      <td>5</td>\n",
       "      <td>0</td>\n",
       "      <td>AZ</td>\n",
       "    </tr>\n",
       "    <tr>\n",
       "      <th>3</th>\n",
       "      <td>11</td>\n",
       "      <td>0</td>\n",
       "      <td>OH</td>\n",
       "    </tr>\n",
       "    <tr>\n",
       "      <th>4</th>\n",
       "      <td>11</td>\n",
       "      <td>1</td>\n",
       "      <td>UT</td>\n",
       "    </tr>\n",
       "    <tr>\n",
       "      <th>...</th>\n",
       "      <td>...</td>\n",
       "      <td>...</td>\n",
       "      <td>...</td>\n",
       "    </tr>\n",
       "    <tr>\n",
       "      <th>127</th>\n",
       "      <td>257</td>\n",
       "      <td>0</td>\n",
       "      <td>AZ</td>\n",
       "    </tr>\n",
       "    <tr>\n",
       "      <th>128</th>\n",
       "      <td>258</td>\n",
       "      <td>0</td>\n",
       "      <td>UT</td>\n",
       "    </tr>\n",
       "    <tr>\n",
       "      <th>129</th>\n",
       "      <td>262</td>\n",
       "      <td>0</td>\n",
       "      <td>AZ</td>\n",
       "    </tr>\n",
       "    <tr>\n",
       "      <th>130</th>\n",
       "      <td>265</td>\n",
       "      <td>0</td>\n",
       "      <td>AZ</td>\n",
       "    </tr>\n",
       "    <tr>\n",
       "      <th>131</th>\n",
       "      <td>265</td>\n",
       "      <td>1</td>\n",
       "      <td>CA</td>\n",
       "    </tr>\n",
       "  </tbody>\n",
       "</table>\n",
       "<p>132 rows × 3 columns</p>\n",
       "</div>"
      ],
      "text/plain": [
       "     level_0  level_1 State\n",
       "0          0        0    CO\n",
       "1          1        0    CO\n",
       "2          5        0    AZ\n",
       "3         11        0    OH\n",
       "4         11        1    UT\n",
       "..       ...      ...   ...\n",
       "127      257        0    AZ\n",
       "128      258        0    UT\n",
       "129      262        0    AZ\n",
       "130      265        0    AZ\n",
       "131      265        1    CA\n",
       "\n",
       "[132 rows x 3 columns]"
      ]
     },
     "execution_count": 71,
     "metadata": {},
     "output_type": "execute_result"
    }
   ],
   "source": [
    "state = df_states.to_frame(name = \"State\")\n",
    "\n",
    "\n",
    "state.reset_index()"
   ]
  },
  {
   "cell_type": "code",
   "execution_count": 81,
   "id": "c22cd540-b031-4103-a5f9-ae686eeb0003",
   "metadata": {
    "tags": []
   },
   "outputs": [],
   "source": [
    "state_count = state.groupby('State').value_counts()"
   ]
  },
  {
   "cell_type": "code",
   "execution_count": 82,
   "id": "a4224183-bec2-4610-86ee-06143e57a822",
   "metadata": {
    "tags": []
   },
   "outputs": [
    {
     "data": {
      "text/plain": [
       "State\n",
       "AZ    45\n",
       "CA     7\n",
       "CO    22\n",
       "NM    10\n",
       "NV    12\n",
       "OH     1\n",
       "UT    29\n",
       "WY     6\n",
       "Name: count, dtype: int64"
      ]
     },
     "execution_count": 82,
     "metadata": {},
     "output_type": "execute_result"
    }
   ],
   "source": [
    "state_count"
   ]
  },
  {
   "cell_type": "code",
   "execution_count": null,
   "id": "b8da89a9-d5c3-4088-aa40-4cf0193062db",
   "metadata": {},
   "outputs": [],
   "source": []
  }
 ],
 "metadata": {
  "kernelspec": {
   "display_name": "EDS220",
   "language": "python",
   "name": "eds220-env"
  },
  "language_info": {
   "codemirror_mode": {
    "name": "ipython",
    "version": 3
   },
   "file_extension": ".py",
   "mimetype": "text/x-python",
   "name": "python",
   "nbconvert_exporter": "python",
   "pygments_lexer": "ipython3",
   "version": "3.11.4"
  }
 },
 "nbformat": 4,
 "nbformat_minor": 5
}
