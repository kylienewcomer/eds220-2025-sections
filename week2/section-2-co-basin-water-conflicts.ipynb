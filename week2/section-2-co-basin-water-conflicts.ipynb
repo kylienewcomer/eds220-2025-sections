{
 "cells": [
  {
   "cell_type": "code",
   "execution_count": null,
   "id": "07e84758-b5d9-4de7-8f53-16f1e8a6e2bc",
   "metadata": {},
   "outputs": [],
   "source": []
  }
 ],
 "metadata": {
  "kernelspec": {
   "display_name": "EDS220",
   "language": "python",
   "name": "eds220-env"
  },
  "language_info": {
   "codemirror_mode": {
    "name": "ipython",
    "version": 3
   },
   "file_extension": ".py",
   "mimetype": "text/x-python",
   "name": "python",
   "nbconvert_exporter": "python",
   "pygments_lexer": "ipython3",
   "version": "3.11.4"
  }
 },
 "nbformat": 4,
 "nbformat_minor": 5
}
